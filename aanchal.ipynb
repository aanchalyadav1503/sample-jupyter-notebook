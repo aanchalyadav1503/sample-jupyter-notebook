{
 "cells": [
  {
   "cell_type": "markdown",
   "id": "950e623d-9522-4351-a46e-b0c8170b83a0",
   "metadata": {},
   "source": [
    "# this is my first class"
   ]
  },
  {
   "cell_type": "markdown",
   "id": "5b26821d-82b4-4d1d-acb8-382f4c91c409",
   "metadata": {},
   "source": [
    "# hi"
   ]
  },
  {
   "cell_type": "markdown",
   "id": "1c837840-cd66-4bd6-bc50-7b78147119f4",
   "metadata": {},
   "source": [
    "#big data"
   ]
  }
 ],
 "metadata": {
  "kernelspec": {
   "display_name": "Python 3 (ipykernel)",
   "language": "python",
   "name": "python3"
  },
  "language_info": {
   "codemirror_mode": {
    "name": "ipython",
    "version": 3
   },
   "file_extension": ".py",
   "mimetype": "text/x-python",
   "name": "python",
   "nbconvert_exporter": "python",
   "pygments_lexer": "ipython3",
   "version": "3.12.4"
  }
 },
 "nbformat": 4,
 "nbformat_minor": 5
}
